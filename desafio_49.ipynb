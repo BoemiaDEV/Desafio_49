{
 "cells": [
  {
   "cell_type": "code",
   "execution_count": 28,
   "metadata": {},
   "outputs": [
    {
     "name": "stdout",
     "output_type": "stream",
     "text": [
      "a letra 'a' aparece 3 vezes na frase\n",
      "a letra 'e' aparece 2 vezes na frase\n",
      "a letra 'i' aparece 2 vezes na frase\n",
      "a letra 'o' aparece 4 vezes na frase\n",
      "a letra 'u' aparece 0 vezes na frase\n"
     ]
    }
   ],
   "source": [
    "arq = open(\"texto.txt\", \"r\", encoding=\"utf-8\")\n",
    "\n",
    "conteudo = arq.read()\n",
    "conteudo.lower()\n",
    "contador = conteudo.count(\"a\")\n",
    "contador1 = conteudo.count(\"e\")\n",
    "contador2 = conteudo.count(\"i\")\n",
    "contador3 = conteudo.count(\"o\")\n",
    "contador4 = conteudo.count(\"u\")\n",
    "print(f\"a letra 'a' aparece {contador} vezes na frase\")\n",
    "print(f\"a letra 'e' aparece {contador1} vezes na frase\")\n",
    "print(f\"a letra 'i' aparece {contador2} vezes na frase\")\n",
    "print(f\"a letra 'o' aparece {contador3} vezes na frase\")\n",
    "print(f\"a letra 'u' aparece {contador4} vezes na frase\")\n",
    "\n",
    "arq.close()"
   ]
  }
 ],
 "metadata": {
  "kernelspec": {
   "display_name": "venv",
   "language": "python",
   "name": "python3"
  },
  "language_info": {
   "codemirror_mode": {
    "name": "ipython",
    "version": 3
   },
   "file_extension": ".py",
   "mimetype": "text/x-python",
   "name": "python",
   "nbconvert_exporter": "python",
   "pygments_lexer": "ipython3",
   "version": "3.11.2"
  },
  "orig_nbformat": 4
 },
 "nbformat": 4,
 "nbformat_minor": 2
}
